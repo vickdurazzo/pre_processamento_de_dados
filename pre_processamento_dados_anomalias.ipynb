{
  "nbformat": 4,
  "nbformat_minor": 0,
  "metadata": {
    "colab": {
      "provenance": [],
      "authorship_tag": "ABX9TyMdlnuFZmG7FH0bidmrgtHt",
      "include_colab_link": true
    },
    "kernelspec": {
      "name": "python3",
      "display_name": "Python 3"
    },
    "language_info": {
      "name": "python"
    }
  },
  "cells": [
    {
      "cell_type": "markdown",
      "metadata": {
        "id": "view-in-github",
        "colab_type": "text"
      },
      "source": [
        "<a href=\"https://colab.research.google.com/github/vickdurazzo/pre_processamento_de_dados/blob/main/pre_processamento_dados_anomalias.ipynb\" target=\"_parent\"><img src=\"https://colab.research.google.com/assets/colab-badge.svg\" alt=\"Open In Colab\"/></a>"
      ]
    },
    {
      "cell_type": "markdown",
      "source": [
        "# Pré processamento dos dados - Detecção e Tratamento de Anomalias"
      ],
      "metadata": {
        "id": "vCpmCqcM_obN"
      }
    },
    {
      "cell_type": "markdown",
      "source": [
        "dataset para simulação de anomalias"
      ],
      "metadata": {
        "id": "gwzxDyhlP--W"
      }
    },
    {
      "cell_type": "code",
      "execution_count": null,
      "metadata": {
        "id": "KCkp6IXU_iaP",
        "colab": {
          "base_uri": "https://localhost:8080/"
        },
        "outputId": "61726240-fcf7-4eb4-f2b4-2ba119bc4e42"
      },
      "outputs": [
        {
          "output_type": "stream",
          "name": "stdout",
          "text": [
            "[  10  386  479  627   20  523  482  483  542  699  535  617  577  471\n",
            "  615  583  441  562  563  527  453  530  433  541  585  704  443  569\n",
            "  430  637  331  511  552  496  484  566  554  472  335  440  579  341\n",
            "  545  615  548  604  439  556  442  461  624  611  444  578  405  487\n",
            "  490  496  398  512  422  455  449  432  607  679  434  597  639  565\n",
            "  415  486  668  414  665  763  557  304  404  454  689  610  483  441\n",
            "  657  590  492  476  437  483  529  363  711  543   30 1300 1350 1400]\n"
          ]
        }
      ],
      "source": [
        "import numpy\n",
        "\n",
        "dados = [10, 386, 479, 627, 20, 523, 482, 483, 542, 699, 535, 617, 577, 471, 615, 583, 441, 562, 563, 527, \n",
        "       453, 530, 433, 541, 585, 704, 443, 569, 430, 637, 331, 511, 552, 496, 484, 566, 554, 472, 335, \n",
        "       440, 579, 341, 545, 615, 548, 604, 439, 556, 442, 461, 624, 611, 444, 578, 405, 487, 490, 496, 398, \n",
        "       512, 422, 455, 449, 432, 607, 679, 434, 597, 639, 565, 415, 486, 668, 414, 665, 763, 557, 304, 404, 454, \n",
        "       689, 610, 483, 441, 657, 590, 492, 476, 437, 483, 529, 363, 711, 543,30, 1300, 1350, 1400]\n",
        "\n",
        "dados = numpy.array(dados)\n",
        "print(dados)"
      ]
    },
    {
      "cell_type": "markdown",
      "source": [
        "visualizando valores anômalos"
      ],
      "metadata": {
        "id": "ED8BIaU4QE4I"
      }
    },
    {
      "cell_type": "code",
      "source": [
        "%matplotlib inline\n",
        "import seaborn as sns\n",
        "sns.set(style='whitegrid',color_codes=True)\n",
        "sns.boxplot(data=dados)"
      ],
      "metadata": {
        "colab": {
          "base_uri": "https://localhost:8080/",
          "height": 451
        },
        "id": "7qyal2KmQJm_",
        "outputId": "b00968ca-aa88-408d-f918-1d2f78c4984e"
      },
      "execution_count": null,
      "outputs": [
        {
          "output_type": "execute_result",
          "data": {
            "text/plain": [
              "<Axes: >"
            ]
          },
          "metadata": {},
          "execution_count": 2
        },
        {
          "output_type": "display_data",
          "data": {
            "text/plain": [
              "<Figure size 640x480 with 1 Axes>"
            ],
            "image/png": "[encoded data removed]"
          },
          "metadata": {}
        }
      ]
    },
    {
      "cell_type": "markdown",
      "source": [
        "verificando o valor da média"
      ],
      "metadata": {
        "id": "98Ipj4SSQbrY"
      }
    },
    {
      "cell_type": "code",
      "source": [
        "numpy.mean(dados,axis=0)"
      ],
      "metadata": {
        "colab": {
          "base_uri": "https://localhost:8080/"
        },
        "id": "IRT5JicTQePg",
        "outputId": "fafa2213-92cd-4a20-987d-1ce253caef85"
      },
      "execution_count": null,
      "outputs": [
        {
          "output_type": "execute_result",
          "data": {
            "text/plain": [
              "530.3673469387755"
            ]
          },
          "metadata": {},
          "execution_count": 3
        }
      ]
    },
    {
      "cell_type": "markdown",
      "source": [
        "verificando o valor de desvio padrão"
      ],
      "metadata": {
        "id": "0jVWb8WIQ7Rg"
      }
    },
    {
      "cell_type": "code",
      "source": [
        "numpy.std(dados,axis=0)"
      ],
      "metadata": {
        "colab": {
          "base_uri": "https://localhost:8080/"
        },
        "id": "15eo0QmYQ-V_",
        "outputId": "c46429c8-7b7c-4f82-b2f2-66fab5043303"
      },
      "execution_count": null,
      "outputs": [
        {
          "output_type": "execute_result",
          "data": {
            "text/plain": [
              "192.51166875607043"
            ]
          },
          "metadata": {},
          "execution_count": 4
        }
      ]
    },
    {
      "cell_type": "markdown",
      "source": [
        "fronteira de valor abaixo da média em duas vezes o desvio padrão"
      ],
      "metadata": {
        "id": "Q6_RJcarRkxX"
      }
    },
    {
      "cell_type": "code",
      "source": [
        "mean = numpy.mean(dados,axis=0)\n",
        "sd = numpy.std(dados,axis=0)"
      ],
      "metadata": {
        "id": "LcIKxFPmRqtO"
      },
      "execution_count": null,
      "outputs": []
    },
    {
      "cell_type": "code",
      "source": [
        "mean - 2 * sd"
      ],
      "metadata": {
        "colab": {
          "base_uri": "https://localhost:8080/"
        },
        "id": "qI2S5VP7R2K3",
        "outputId": "1745b0a3-39e4-41ca-ee52-19de35fc062b"
      },
      "execution_count": null,
      "outputs": [
        {
          "output_type": "execute_result",
          "data": {
            "text/plain": [
              "145.34400942663467"
            ]
          },
          "metadata": {},
          "execution_count": 7
        }
      ]
    },
    {
      "cell_type": "markdown",
      "source": [
        "fronteira de valores acima da média em duas vezes o desvio padrão"
      ],
      "metadata": {
        "id": "Rcn4PCzGR-uH"
      }
    },
    {
      "cell_type": "code",
      "source": [
        "mean + 2 * sd"
      ],
      "metadata": {
        "colab": {
          "base_uri": "https://localhost:8080/"
        },
        "id": "cZEg4ux3SDlY",
        "outputId": "2cec783b-2265-425c-a97c-f1dea477fe3d"
      },
      "execution_count": null,
      "outputs": [
        {
          "output_type": "execute_result",
          "data": {
            "text/plain": [
              "915.3906844509164"
            ]
          },
          "metadata": {},
          "execution_count": 8
        }
      ]
    },
    {
      "cell_type": "markdown",
      "source": [
        "listando os valores abaixo da média em duas vezes o desvio padrão"
      ],
      "metadata": {
        "id": "jE_rM1aISMBA"
      }
    },
    {
      "cell_type": "code",
      "source": [
        "for x in dados :\n",
        "    if(x < mean-2*sd):\n",
        "        print(x)"
      ],
      "metadata": {
        "colab": {
          "base_uri": "https://localhost:8080/"
        },
        "id": "i0FLhWMYSKZ3",
        "outputId": "87a8f3a6-ec10-4d3c-b5e2-7afc2792277b"
      },
      "execution_count": null,
      "outputs": [
        {
          "output_type": "stream",
          "name": "stdout",
          "text": [
            "10\n",
            "20\n",
            "30\n"
          ]
        }
      ]
    },
    {
      "cell_type": "markdown",
      "source": [
        "listando os valores acima da média"
      ],
      "metadata": {
        "id": "i5MACC3OSxDe"
      }
    },
    {
      "cell_type": "code",
      "source": [
        "for x in dados :\n",
        "    if(x > mean+2*sd):\n",
        "        print(x)"
      ],
      "metadata": {
        "colab": {
          "base_uri": "https://localhost:8080/"
        },
        "id": "C2w60yUTS0jO",
        "outputId": "0ade16b0-9324-46d2-f900-8ba64ea0c152"
      },
      "execution_count": null,
      "outputs": [
        {
          "output_type": "stream",
          "name": "stdout",
          "text": [
            "1300\n",
            "1350\n",
            "1400\n"
          ]
        }
      ]
    },
    {
      "cell_type": "markdown",
      "source": [
        "removendo os valores muito abaixo da média"
      ],
      "metadata": {
        "id": "zN6moK3ZTA02"
      }
    },
    {
      "cell_type": "code",
      "source": [
        "dados = [x for x in dados if(x>mean-2*sd)]\n",
        "print(dados)"
      ],
      "metadata": {
        "colab": {
          "base_uri": "https://localhost:8080/"
        },
        "id": "d8WbiqhHTFTA",
        "outputId": "30870916-1212-4cd5-beaa-05f8d92a6ae9"
      },
      "execution_count": null,
      "outputs": [
        {
          "output_type": "stream",
          "name": "stdout",
          "text": [
            "[386, 479, 627, 523, 482, 483, 542, 699, 535, 617, 577, 471, 615, 583, 441, 562, 563, 527, 453, 530, 433, 541, 585, 704, 443, 569, 430, 637, 331, 511, 552, 496, 484, 566, 554, 472, 335, 440, 579, 341, 545, 615, 548, 604, 439, 556, 442, 461, 624, 611, 444, 578, 405, 487, 490, 496, 398, 512, 422, 455, 449, 432, 607, 679, 434, 597, 639, 565, 415, 486, 668, 414, 665, 763, 557, 304, 404, 454, 689, 610, 483, 441, 657, 590, 492, 476, 437, 483, 529, 363, 711, 543, 1300, 1350, 1400]\n"
          ]
        }
      ]
    },
    {
      "cell_type": "markdown",
      "source": [
        "removendo os valores acima da média"
      ],
      "metadata": {
        "id": "ejXt6bPxTPZP"
      }
    },
    {
      "cell_type": "code",
      "source": [
        "dados = [x for x in dados if (x < mean + 2 * sd)]\n",
        "print(dados)"
      ],
      "metadata": {
        "colab": {
          "base_uri": "https://localhost:8080/"
        },
        "id": "JnohmcUyTST2",
        "outputId": "74ff1b58-5971-42af-8d4b-b696e96207cb"
      },
      "execution_count": null,
      "outputs": [
        {
          "output_type": "stream",
          "name": "stdout",
          "text": [
            "[386, 479, 627, 523, 482, 483, 542, 699, 535, 617, 577, 471, 615, 583, 441, 562, 563, 527, 453, 530, 433, 541, 585, 704, 443, 569, 430, 637, 331, 511, 552, 496, 484, 566, 554, 472, 335, 440, 579, 341, 545, 615, 548, 604, 439, 556, 442, 461, 624, 611, 444, 578, 405, 487, 490, 496, 398, 512, 422, 455, 449, 432, 607, 679, 434, 597, 639, 565, 415, 486, 668, 414, 665, 763, 557, 304, 404, 454, 689, 610, 483, 441, 657, 590, 492, 476, 437, 483, 529, 363, 711, 543]\n"
          ]
        }
      ]
    },
    {
      "cell_type": "markdown",
      "source": [
        "visualizando os valores novamente"
      ],
      "metadata": {
        "id": "fte6GZHcTgI-"
      }
    },
    {
      "cell_type": "code",
      "source": [
        "sns.boxplot(data=dados)"
      ],
      "metadata": {
        "colab": {
          "base_uri": "https://localhost:8080/",
          "height": 451
        },
        "id": "IlaCNLYITjfN",
        "outputId": "3923a42e-72c2-4fc9-c578-4568ffb39bcb"
      },
      "execution_count": null,
      "outputs": [
        {
          "output_type": "execute_result",
          "data": {
            "text/plain": [
              "<Axes: >"
            ]
          },
          "metadata": {},
          "execution_count": 14
        },
        {
          "output_type": "display_data",
          "data": {
            "text/plain": [
              "<Figure size 640x480 with 1 Axes>"
            ],
            "image/png": "[encoded data removed]"
          },
          "metadata": {}
        }
      ]
    }
  ]
}